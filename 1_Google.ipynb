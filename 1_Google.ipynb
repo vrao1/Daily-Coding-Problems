{
 "cells": [
  {
   "cell_type": "markdown",
   "metadata": {},
   "source": [
    "Given a list of numbers and a number k, return whether any two numbers from the list add up to k.\n",
    "\n",
    "For example, given [10, 15, 3, 7] and k of 17, return true since 10 + 7 is 17."
   ]
  },
  {
   "cell_type": "code",
   "execution_count": 5,
   "metadata": {},
   "outputs": [],
   "source": [
    "from bisect import bisect_left\n",
    "\n",
    "def doesPairExist(l, k):\n",
    "    #using complexity of nlogn\n",
    "    '''\n",
    "    l_s = sorted(l)\n",
    "    index = 0\n",
    "    size_l = len(l_s)\n",
    "    \n",
    "    for current_num in l_s:\n",
    "        other_num = k - current_num\n",
    "        sought_index = -1\n",
    "        \n",
    "        if other_num < current_num and index > 0:\n",
    "            sought_index = bisect_left(l_s, other_num, 0, index)\n",
    "        elif other_num > current_num:\n",
    "            sought_index = bisect_left(l_s, other_num, index+1, size_l)\n",
    "            \n",
    "        if sought_index >= 0 and sought_index < size_l:\n",
    "            print(\"This pair(%d, %d)\" %(current_num, l_s[sought_index]))\n",
    "            \n",
    "        index = index + 1\n",
    "    '''    \n",
    "    #using Time complexity of O(1) and Space Complexity of O(n)\n",
    "\n",
    "    flag = False\n",
    "    dictionary_list = [0]*1000\n",
    "    \n",
    "    for curr_num in l:\n",
    "        dictionary_list[curr_num] = dictionary_list[curr_num] + 1\n",
    "    \n",
    "    for curr_num in l:\n",
    "        diff = 17 - curr_num\n",
    "        \n",
    "        if diff == curr_num and dictionary_list[curr_num] > 1:\n",
    "            flag = True\n",
    "            print(\"This pair(%d, %d)\" %(curr_num, diff))\n",
    "        elif diff != curr_num and dictionary_list[diff] > 0:\n",
    "            flag = True\n",
    "            print(\"This pair(%d, %d)\" %(curr_num, diff))\n",
    "     \n",
    "    return flag"
   ]
  },
  {
   "cell_type": "code",
   "execution_count": 6,
   "metadata": {},
   "outputs": [
    {
     "name": "stdout",
     "output_type": "stream",
     "text": [
      "This pair(10, 7)\n",
      "This pair(7, 10)\n",
      "True\n"
     ]
    }
   ],
   "source": [
    "a = [10, 15, 3, 7]\n",
    "print(doesPairExist(a, 17))"
   ]
  },
  {
   "cell_type": "code",
   "execution_count": null,
   "metadata": {},
   "outputs": [],
   "source": []
  }
 ],
 "metadata": {
  "kernelspec": {
   "display_name": "Python 3",
   "language": "python",
   "name": "python3"
  },
  "language_info": {
   "codemirror_mode": {
    "name": "ipython",
    "version": 3
   },
   "file_extension": ".py",
   "mimetype": "text/x-python",
   "name": "python",
   "nbconvert_exporter": "python",
   "pygments_lexer": "ipython3",
   "version": "3.7.1"
  }
 },
 "nbformat": 4,
 "nbformat_minor": 2
}
