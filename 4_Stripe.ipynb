{
 "cells": [
  {
   "cell_type": "code",
   "execution_count": 4,
   "metadata": {},
   "outputs": [],
   "source": [
    "def findFirstPositiveMissingNumber(A):\n",
    "    # case 1 : 0\n",
    "    # case 2 : -1\n",
    "    # case 3 : 4\n",
    "    # case 4 : 1\n",
    "    \n",
    "    size = len(A)\n",
    "    a = max(A)\n",
    "    \n",
    "    if a <= 1 and size==1:\n",
    "        return -1\n",
    "    \n",
    "    # case 1: size > a , create size+1 length array\n",
    "    # case 2: size <= a, create a+1 length array\n",
    "    \n",
    "    extraArrSz = size+1 if (size > a) else a+1\n",
    "    \n",
    "    extraArr = [0]*extraArrSz\n",
    "    \n",
    "    for i in A:\n",
    "        if i > 0:\n",
    "            extraArr[i] += 1\n",
    "        \n",
    "    index = 1\n",
    "    while index < extraArrSz:\n",
    "        if extraArr[index] == 0:\n",
    "            return index\n",
    "        else:\n",
    "            index += 1\n",
    "        "
   ]
  },
  {
   "cell_type": "code",
   "execution_count": 5,
   "metadata": {},
   "outputs": [
    {
     "name": "stdout",
     "output_type": "stream",
     "text": [
      "1\n",
      "4\n",
      "2\n",
      "2\n",
      "3\n"
     ]
    }
   ],
   "source": [
    "print(findFirstPositiveMissingNumber([2, 3, 7, 6, 8, -1, -10, 15]))\n",
    "print(findFirstPositiveMissingNumber([2, 3, -7, 6, 8, 1, -10, 15]))\n",
    "print(findFirstPositiveMissingNumber([1, 1, 0, -1, -2]))\n",
    "print(findFirstPositiveMissingNumber([3, 4, -1, 1]))\n",
    "print(findFirstPositiveMissingNumber([1, 2, 0]))"
   ]
  },
  {
   "cell_type": "code",
   "execution_count": null,
   "metadata": {},
   "outputs": [],
   "source": []
  }
 ],
 "metadata": {
  "kernelspec": {
   "display_name": "Python 3",
   "language": "python",
   "name": "python3"
  },
  "language_info": {
   "codemirror_mode": {
    "name": "ipython",
    "version": 3
   },
   "file_extension": ".py",
   "mimetype": "text/x-python",
   "name": "python",
   "nbconvert_exporter": "python",
   "pygments_lexer": "ipython3",
   "version": "3.7.1"
  }
 },
 "nbformat": 4,
 "nbformat_minor": 2
}
