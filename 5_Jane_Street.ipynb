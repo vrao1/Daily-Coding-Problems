{
 "cells": [
  {
   "cell_type": "markdown",
   "metadata": {},
   "source": [
    "cons(a, b) constructs a pair, and car(pair) and cdr(pair) returns the first and last element of that pair. For example, car(cons(3, 4)) returns 3, and cdr(cons(3, 4)) returns 4.\n",
    "\n",
    "Given this implementation of cons:\n",
    "\n",
    "def cons(a, b):\n",
    "    def pair(f):\n",
    "        return f(a, b)\n",
    "    return pair\n",
    "Implement car and cdr.\n",
    "\n",
    "def cons(a, b):\n",
    "    def pair(f):\n",
    "        return f(a, b)\n",
    "    return pair"
   ]
  },
  {
   "cell_type": "code",
   "execution_count": 2,
   "metadata": {},
   "outputs": [],
   "source": [
    "def cons(a, b):\n",
    "    def pair(f):\n",
    "        return f(a, b)\n",
    "    return pair"
   ]
  },
  {
   "cell_type": "code",
   "execution_count": null,
   "metadata": {},
   "outputs": [],
   "source": [
    "def createPair(a, b):\n",
    "    v=tuple(a,b)\n",
    "    return v"
   ]
  },
  {
   "cell_type": "code",
   "execution_count": null,
   "metadata": {},
   "outputs": [],
   "source": [
    "def car()"
   ]
  },
  {
   "cell_type": "code",
   "execution_count": 7,
   "metadata": {},
   "outputs": [],
   "source": [
    "def hello_decorator(func):\n",
    "    def inner_function():\n",
    "        print(\"I am inner function\")\n",
    "        print(\"Before calling func insdide hello_decorator\")\n",
    "        func()\n",
    "        print(\"After calling func insdide hello_decorator\")\n",
    "    return inner_function"
   ]
  },
  {
   "cell_type": "code",
   "execution_count": 8,
   "metadata": {},
   "outputs": [],
   "source": [
    "@hello_decorator\n",
    "def pleaseChangeMe():\n",
    "    print(\"I am pleaseChangeMe\")"
   ]
  },
  {
   "cell_type": "code",
   "execution_count": 9,
   "metadata": {},
   "outputs": [
    {
     "name": "stdout",
     "output_type": "stream",
     "text": [
      "I am inner function\n",
      "Before calling func insdide hello_decorator\n",
      "I am pleaseChangeMe\n",
      "After calling func insdide hello_decorator\n"
     ]
    }
   ],
   "source": [
    "pleaseChangeMe()"
   ]
  },
  {
   "cell_type": "code",
   "execution_count": 6,
   "metadata": {},
   "outputs": [
    {
     "name": "stdout",
     "output_type": "stream",
     "text": [
      "I am inner function\n",
      "Before calling func insdide hello_decorator\n",
      "I am pleaseChangeMe\n",
      "After calling func insdide hello_decorator\n"
     ]
    }
   ],
   "source": [
    "pleaseChangeMe = hello_decorator(pleaseChangeMe)\n",
    "\n",
    "pleaseChangeMe()"
   ]
  },
  {
   "cell_type": "code",
   "execution_count": 1,
   "metadata": {},
   "outputs": [],
   "source": [
    "def cons(a, b):\n",
    "    def pair(f):\n",
    "        return f(a, b)\n",
    "    return pair"
   ]
  },
  {
   "cell_type": "code",
   "execution_count": 2,
   "metadata": {},
   "outputs": [],
   "source": [
    "def car(pair):\n",
    "    def getFirst(a, b):\n",
    "        return a\n",
    "    return pair(getFirst)"
   ]
  },
  {
   "cell_type": "code",
   "execution_count": 3,
   "metadata": {},
   "outputs": [],
   "source": [
    "def cdr(pair):\n",
    "    def getSecond(a, b):\n",
    "        return b\n",
    "    return pair(getSecond)"
   ]
  },
  {
   "cell_type": "code",
   "execution_count": 4,
   "metadata": {},
   "outputs": [
    {
     "name": "stdout",
     "output_type": "stream",
     "text": [
      "35\n"
     ]
    }
   ],
   "source": [
    "print(cdr(cons(34, 35)))"
   ]
  },
  {
   "cell_type": "code",
   "execution_count": 5,
   "metadata": {},
   "outputs": [
    {
     "name": "stdout",
     "output_type": "stream",
     "text": [
      "34\n"
     ]
    }
   ],
   "source": [
    "print(car(cons(34, 35)))"
   ]
  },
  {
   "cell_type": "code",
   "execution_count": null,
   "metadata": {},
   "outputs": [],
   "source": []
  }
 ],
 "metadata": {
  "kernelspec": {
   "display_name": "Python 3",
   "language": "python",
   "name": "python3"
  },
  "language_info": {
   "codemirror_mode": {
    "name": "ipython",
    "version": 3
   },
   "file_extension": ".py",
   "mimetype": "text/x-python",
   "name": "python",
   "nbconvert_exporter": "python",
   "pygments_lexer": "ipython3",
   "version": "3.7.1"
  }
 },
 "nbformat": 4,
 "nbformat_minor": 2
}
